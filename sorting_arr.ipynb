{
 "cells": [
  {
   "cell_type": "code",
   "execution_count": 2,
   "id": "0977ffb5",
   "metadata": {},
   "outputs": [
    {
     "name": "stdout",
     "output_type": "stream",
     "text": [
      "1 2 3 4 5 6\n",
      "[6, 1, 5, 2, 4, 3]\n"
     ]
    }
   ],
   "source": [
    "def arr_sort(l):\n",
    "    n=len(l)\n",
    "    l.sort(reverse=True)\n",
    "    new_list=[0]*(n+1)\n",
    "    \n",
    "    index=0\n",
    "    i=0\n",
    "    j=n-1\n",
    "    mid=n//2\n",
    "    \n",
    "    while (i<mid or j>mid):\n",
    "        new_list[index]=l[i]\n",
    "        index+=1\n",
    "        new_list[index]=l[j]\n",
    "        index+=1\n",
    "        i+=1\n",
    "        j-=1\n",
    "        \n",
    "    for i in range(n):\n",
    "        l[i]=new_list[i]\n",
    "    return l\n",
    "\n",
    "obj=arr_sort(list(map(int,input().split())))\n",
    "print(obj)"
   ]
  },
  {
   "cell_type": "code",
   "execution_count": null,
   "id": "72fb20b9",
   "metadata": {},
   "outputs": [],
   "source": []
  }
 ],
 "metadata": {
  "kernelspec": {
   "display_name": "Python 3",
   "language": "python",
   "name": "python3"
  },
  "language_info": {
   "codemirror_mode": {
    "name": "ipython",
    "version": 3
   },
   "file_extension": ".py",
   "mimetype": "text/x-python",
   "name": "python",
   "nbconvert_exporter": "python",
   "pygments_lexer": "ipython3",
   "version": "3.9.4"
  }
 },
 "nbformat": 4,
 "nbformat_minor": 5
}
